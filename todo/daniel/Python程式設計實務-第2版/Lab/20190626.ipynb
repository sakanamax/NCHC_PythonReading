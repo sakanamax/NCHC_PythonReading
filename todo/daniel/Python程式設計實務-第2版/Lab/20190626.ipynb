{
 "cells": [
  {
   "cell_type": "code",
   "execution_count": 35,
   "metadata": {},
   "outputs": [
    {
     "name": "stdout",
     "output_type": "stream",
     "text": [
      "2\n",
      "6\n"
     ]
    }
   ],
   "source": [
    "for i in range(2,9):\n",
    "    if i != 2 and i != 6 : continue\n",
    "    print(i)"
   ]
  },
  {
   "cell_type": "code",
   "execution_count": 36,
   "metadata": {},
   "outputs": [
    {
     "name": "stdout",
     "output_type": "stream",
     "text": [
      "(pen,3)\n",
      "(ruler,2)\n"
     ]
    }
   ],
   "source": [
    "stock = {'book':10, 'pen':3, 'earser':6, 'ruler':2}\n",
    "\n",
    "for key, value in stock.items():\n",
    "    if value < 5:\n",
    "        print(\"({},{})\".format(key, value))"
   ]
  },
  {
   "cell_type": "markdown",
   "metadata": {},
   "source": [
    "### range 語法\n",
    "\n",
    "```\n",
    "range (start, stop[, step])\n",
    "```"
   ]
  },
  {
   "cell_type": "code",
   "execution_count": 38,
   "metadata": {},
   "outputs": [
    {
     "name": "stdout",
     "output_type": "stream",
     "text": [
      "0\n",
      "1\n",
      "2\n",
      "3\n",
      "4\n",
      "5\n"
     ]
    }
   ],
   "source": [
    "for i in range(6):\n",
    "    print(i)"
   ]
  },
  {
   "cell_type": "code",
   "execution_count": 15,
   "metadata": {},
   "outputs": [
    {
     "name": "stdout",
     "output_type": "stream",
     "text": [
      "2\n",
      "3\n"
     ]
    }
   ],
   "source": [
    "for i in range(2,4):\n",
    "    print(i)"
   ]
  },
  {
   "cell_type": "code",
   "execution_count": 16,
   "metadata": {},
   "outputs": [
    {
     "name": "stdout",
     "output_type": "stream",
     "text": [
      "2\n",
      "6\n"
     ]
    }
   ],
   "source": [
    "for i in range(2,7,4):\n",
    "    print(i)"
   ]
  },
  {
   "cell_type": "markdown",
   "metadata": {},
   "source": [
    "### 7-5.py (Python 3 version) 九九乘法表"
   ]
  },
  {
   "cell_type": "code",
   "execution_count": 39,
   "metadata": {},
   "outputs": [
    {
     "name": "stdout",
     "output_type": "stream",
     "text": [
      "2x1= 2    3x1= 3    4x1= 4    5x1= 5    \n",
      "2x2= 4    3x2= 6    4x2= 8    5x2=10    \n",
      "2x3= 6    3x3= 9    4x3=12    5x3=15    \n",
      "2x4= 8    3x4=12    4x4=16    5x4=20    \n",
      "2x5=10    3x5=15    4x5=20    5x5=25    \n",
      "2x6=12    3x6=18    4x6=24    5x6=30    \n",
      "2x7=14    3x7=21    4x7=28    5x7=35    \n",
      "2x8=16    3x8=24    4x8=32    5x8=40    \n",
      "2x9=18    3x9=27    4x9=36    5x9=45    \n",
      "\n",
      "6x1= 6    7x1= 7    8x1= 8    9x1= 9    \n",
      "6x2=12    7x2=14    8x2=16    9x2=18    \n",
      "6x3=18    7x3=21    8x3=24    9x3=27    \n",
      "6x4=24    7x4=28    8x4=32    9x4=36    \n",
      "6x5=30    7x5=35    8x5=40    9x5=45    \n",
      "6x6=36    7x6=42    8x6=48    9x6=54    \n",
      "6x7=42    7x7=49    8x7=56    9x7=63    \n",
      "6x8=48    7x8=56    8x8=64    9x8=72    \n",
      "6x9=54    7x9=63    8x9=72    9x9=81    \n",
      "\n"
     ]
    }
   ],
   "source": [
    "for i in range(2,7,4):\n",
    "    for j in range(1,10):\n",
    "        print(\"{}x{}={:>2}    \".format(i, j, i*j), end=\"\")\n",
    "        print(\"{}x{}={:>2}    \".format(i+1, j, (i+1)*j), end=\"\")\n",
    "        print(\"{}x{}={:>2}    \".format(i+2, j, (i+2)*j), end=\"\")\n",
    "        print(\"{}x{}={:>2}    \".format(i+3, j, (i+3)*j))\n",
    "    print()"
   ]
  },
  {
   "cell_type": "markdown",
   "metadata": {},
   "source": [
    "### 7-6.py (Python 3 version) 九九乘法表"
   ]
  },
  {
   "cell_type": "markdown",
   "metadata": {},
   "source": [
    "`{:>2}` 這是數值往右靠齊"
   ]
  },
  {
   "cell_type": "code",
   "execution_count": 41,
   "metadata": {},
   "outputs": [
    {
     "name": "stdout",
     "output_type": "stream",
     "text": [
      "2x1= 2    3x1= 3    4x1= 4    5x1= 5    \n",
      "2x2= 4    3x2= 6    4x2= 8    5x2=10    \n",
      "2x3= 6    3x3= 9    4x3=12    5x3=15    \n",
      "2x4= 8    3x4=12    4x4=16    5x4=20    \n",
      "2x5=10    3x5=15    4x5=20    5x5=25    \n",
      "2x6=12    3x6=18    4x6=24    5x6=30    \n",
      "2x7=14    3x7=21    4x7=28    5x7=35    \n",
      "2x8=16    3x8=24    4x8=32    5x8=40    \n",
      "2x9=18    3x9=27    4x9=36    5x9=45    \n",
      "\n",
      "6x1= 6    7x1= 7    8x1= 8    9x1= 9    \n",
      "6x2=12    7x2=14    8x2=16    9x2=18    \n",
      "6x3=18    7x3=21    8x3=24    9x3=27    \n",
      "6x4=24    7x4=28    8x4=32    9x4=36    \n",
      "6x5=30    7x5=35    8x5=40    9x5=45    \n",
      "6x6=36    7x6=42    8x6=48    9x6=54    \n",
      "6x7=42    7x7=49    8x7=56    9x7=63    \n",
      "6x8=48    7x8=56    8x8=64    9x8=72    \n",
      "6x9=54    7x9=63    8x9=72    9x9=81    \n",
      "\n"
     ]
    }
   ],
   "source": [
    "for i in range(2,7,4):\n",
    "    for j in range(1,10):\n",
    "        for k in range(i,i+4):\n",
    "            print(\"{}x{}={:>2}    \".format(k, j, k*j), end=\"\")\n",
    "        print()\n",
    "    print()"
   ]
  },
  {
   "cell_type": "markdown",
   "metadata": {},
   "source": [
    "### 7-6.py (Python 3 version)"
   ]
  },
  {
   "cell_type": "code",
   "execution_count": 42,
   "metadata": {},
   "outputs": [
    {
     "name": "stdout",
     "output_type": "stream",
     "text": [
      "2x1= 2    3x1= 3    4x1= 4    5x1= 5    \n",
      "2x2= 4    3x2= 6    4x2= 8    5x2=10    \n",
      "2x3= 6    3x3= 9    4x3=12    5x3=15    \n",
      "2x4= 8    3x4=12    4x4=16    5x4=20    \n",
      "2x5=10    3x5=15    4x5=20    5x5=25    \n",
      "2x6=12    3x6=18    4x6=24    5x6=30    \n",
      "2x7=14    3x7=21    4x7=28    5x7=35    \n",
      "2x8=16    3x8=24    4x8=32    5x8=40    \n",
      "2x9=18    3x9=27    4x9=36    5x9=45    \n",
      "\n",
      "6x1= 6    7x1= 7    8x1= 8    9x1= 9    \n",
      "6x2=12    7x2=14    8x2=16    9x2=18    \n",
      "6x3=18    7x3=21    8x3=24    9x3=27    \n",
      "6x4=24    7x4=28    8x4=32    9x4=36    \n",
      "6x5=30    7x5=35    8x5=40    9x5=45    \n",
      "6x6=36    7x6=42    8x6=48    9x6=54    \n",
      "6x7=42    7x7=49    8x7=56    9x7=63    \n",
      "6x8=48    7x8=56    8x8=64    9x8=72    \n",
      "6x9=54    7x9=63    8x9=72    9x9=81    \n",
      "\n"
     ]
    }
   ],
   "source": [
    "for i in range(2,7,4):\n",
    "    for j in range(1,10):\n",
    "        for k in range(i,i+4):\n",
    "            print(\"{}x{}={:>2}    \".format(k, j, k*j), end=\"\")\n",
    "        print()\n",
    "    print()"
   ]
  },
  {
   "cell_type": "code",
   "execution_count": 51,
   "metadata": {},
   "outputs": [
    {
     "name": "stdin",
     "output_type": "stream",
     "text": [
      "guess age: 30\n"
     ]
    },
    {
     "name": "stdout",
     "output_type": "stream",
     "text": [
      "You may think bigger...\n"
     ]
    },
    {
     "name": "stdin",
     "output_type": "stream",
     "text": [
      "guess age: 30\n"
     ]
    },
    {
     "name": "stdout",
     "output_type": "stream",
     "text": [
      "You may think bigger...\n"
     ]
    },
    {
     "name": "stdin",
     "output_type": "stream",
     "text": [
      "guess age: 30\n"
     ]
    },
    {
     "name": "stdout",
     "output_type": "stream",
     "text": [
      "You may think bigger...\n"
     ]
    },
    {
     "name": "stdin",
     "output_type": "stream",
     "text": [
      "guess age: 30\n"
     ]
    },
    {
     "name": "stdout",
     "output_type": "stream",
     "text": [
      "You may think bigger...\n",
      "You have tried too many, exit\n"
     ]
    }
   ],
   "source": [
    "age_of_ironman = 35\n",
    "\n",
    "count = 0\n",
    "\n",
    "while count <= 3:\n",
    "    guess_age = int(input(\"guess age:\"))\n",
    "    if guess_age == age_of_ironman:\n",
    "        print(\"Bingo, You got it!!!\")\n",
    "        break\n",
    "    elif guess_age > age_of_ironman:\n",
    "        print(\"You may think smaller...\")\n",
    "    else:\n",
    "        print(\"You may think bigger...\")\n",
    "    count += 1\n",
    "else:\n",
    "    print(\"You have tried too many, exit\")"
   ]
  },
  {
   "cell_type": "markdown",
   "metadata": {},
   "source": [
    "## 進階迴圈指令\n",
    "\n",
    "`for 迴圈` 是在所有指定的元素被取出時，就結束迴圈。\n",
    "\n",
    "`while 迴圈` 是在進入之前(或是下一次要再執行之前)，先判斷，條件不成立就結束迴圈\n",
    "\n",
    "離開迴圈可以用 **`break`**\n",
    "再從下一次重新執行 **`continue`** ， 若是在迴圈進行中遇到 `continue` 會馬上放棄同一層之後所有要執行的指令"
   ]
  },
  {
   "cell_type": "markdown",
   "metadata": {},
   "source": [
    "### 7-7.py (Python 3 version)"
   ]
  },
  {
   "cell_type": "code",
   "execution_count": 32,
   "metadata": {},
   "outputs": [
    {
     "name": "stdout",
     "output_type": "stream",
     "text": [
      "2x1= 2    3x1= 3    4x1= 4    5x1= 5    \n",
      "2x2= 4    3x2= 6    4x2= 8    5x2=10    \n",
      "2x3= 6    3x3= 9    4x3=12    5x3=15    \n",
      "2x4= 8    3x4=12    4x4=16    5x4=20    \n",
      "2x5=10    3x5=15    4x5=20    5x5=25    \n",
      "2x6=12    3x6=18    4x6=24    5x6=30    \n",
      "2x7=14    3x7=21    4x7=28    5x7=35    \n",
      "2x8=16    3x8=24    4x8=32    5x8=40    \n",
      "2x9=18    3x9=27    4x9=36    5x9=45    \n",
      "\n",
      "6x1= 6    7x1= 7    8x1= 8    9x1= 9    \n",
      "6x2=12    7x2=14    8x2=16    9x2=18    \n",
      "6x3=18    7x3=21    8x3=24    9x3=27    \n",
      "6x4=24    7x4=28    8x4=32    9x4=36    \n",
      "6x5=30    7x5=35    8x5=40    9x5=45    \n",
      "6x6=36    7x6=42    8x6=48    9x6=54    \n",
      "6x7=42    7x7=49    8x7=56    9x7=63    \n",
      "6x8=48    7x8=56    8x8=64    9x8=72    \n",
      "6x9=54    7x9=63    8x9=72    9x9=81    \n",
      "\n"
     ]
    }
   ],
   "source": [
    "for i in range(2,9):\n",
    "    if i != 2 and i != 6 : continue\n",
    "    for j in range(1,10):\n",
    "        for k in range(i,i+4):\n",
    "            print(\"{}x{}={:>2}    \".format(k, j, k*j), end=\"\")\n",
    "        print()\n",
    "    print()\n"
   ]
  },
  {
   "cell_type": "markdown",
   "metadata": {},
   "source": [
    "### 7-8.py (Python 3 version)"
   ]
  },
  {
   "cell_type": "code",
   "execution_count": 58,
   "metadata": {},
   "outputs": [
    {
     "name": "stdout",
     "output_type": "stream",
     "text": [
      "2\n",
      "5\n",
      "1\n",
      "1\n",
      "6\n"
     ]
    }
   ],
   "source": [
    "import random\n",
    "while True:\n",
    "    x = random.randint(1,6)\n",
    "    print(x)\n",
    "    if x == 6 : break"
   ]
  },
  {
   "cell_type": "markdown",
   "metadata": {},
   "source": [
    "### 範例講解"
   ]
  },
  {
   "cell_type": "code",
   "execution_count": 62,
   "metadata": {},
   "outputs": [
    {
     "name": "stdout",
     "output_type": "stream",
     "text": [
      "1\n",
      "No.1: Tom\n",
      "2\n",
      "No.2: Richard\n",
      "3\n",
      "No.3: Jane\n",
      "4\n",
      "No.4: May\n",
      "5\n",
      "No.5: John\n"
     ]
    }
   ],
   "source": [
    "name = ['Tom', 'Richard', 'Jane', 'May', 'John']\n",
    "for i, name in enumerate(name, start=1):\n",
    "    print(i)\n",
    "    print(\"No.{}: {}\".format(i, name))"
   ]
  },
  {
   "cell_type": "markdown",
   "metadata": {},
   "source": [
    "Python 有一種針對處理 `有序資料` 的運算器稱為 **`iterator`** ，運作方式跟迴圈無異"
   ]
  },
  {
   "cell_type": "markdown",
   "metadata": {},
   "source": [
    "map 語法:\n",
    "\n",
    "map(執行用的函數, 容器變數)"
   ]
  },
  {
   "cell_type": "markdown",
   "metadata": {},
   "source": [
    "### 程式7-9.py ( Python 3 version )"
   ]
  },
  {
   "cell_type": "code",
   "execution_count": 29,
   "metadata": {},
   "outputs": [
    {
     "name": "stdout",
     "output_type": "stream",
     "text": [
      "Banana\n",
      "Pine Apple\n",
      "Orange\n",
      "Berry\n",
      "Apple\n",
      "Tomato\n",
      "Pine Apple\n",
      "Pine Apple\n",
      "Orange\n"
     ]
    }
   ],
   "source": [
    "def pick(x):\n",
    "    fruits=['Apple', 'Banana', 'Orange', 'Tomato', 'Pine Apple', 'Berry']\n",
    "    return fruits[x]\n",
    "\n",
    "alist = [1, 4, 2, 5, 0, 3, 4, 4, 2]\n",
    "choices = map(pick, alist)\n",
    "for choice in choices:\n",
    "    print(choice)"
   ]
  },
  {
   "cell_type": "markdown",
   "metadata": {},
   "source": [
    "### 程式7-10.py ( Python 3 version )"
   ]
  },
  {
   "cell_type": "code",
   "execution_count": 28,
   "metadata": {},
   "outputs": [
    {
     "ename": "ModuleNotFoundError",
     "evalue": "No module named 'sympy'",
     "output_type": "error",
     "traceback": [
      "\u001b[0;31m---------------------------------------------------------------------------\u001b[0m",
      "\u001b[0;31mModuleNotFoundError\u001b[0m                       Traceback (most recent call last)",
      "\u001b[0;32m<ipython-input-28-121556f8a9ce>\u001b[0m in \u001b[0;36m<module>\u001b[0;34m\u001b[0m\n\u001b[0;32m----> 1\u001b[0;31m \u001b[0;32mimport\u001b[0m \u001b[0msympy\u001b[0m\u001b[0;34m\u001b[0m\u001b[0;34m\u001b[0m\u001b[0m\n\u001b[0m\u001b[1;32m      2\u001b[0m \u001b[0ma\u001b[0m\u001b[0;34m,\u001b[0m \u001b[0mb\u001b[0m \u001b[0;34m=\u001b[0m \u001b[0;36m500\u001b[0m\u001b[0;34m,\u001b[0m\u001b[0;36m600\u001b[0m\u001b[0;34m\u001b[0m\u001b[0;34m\u001b[0m\u001b[0m\n\u001b[1;32m      3\u001b[0m \u001b[0mnumbers\u001b[0m \u001b[0;34m=\u001b[0m \u001b[0mrange\u001b[0m\u001b[0;34m(\u001b[0m\u001b[0ma\u001b[0m\u001b[0;34m,\u001b[0m\u001b[0mb\u001b[0m\u001b[0;34m)\u001b[0m\u001b[0;34m\u001b[0m\u001b[0;34m\u001b[0m\u001b[0m\n\u001b[1;32m      4\u001b[0m \u001b[0mprime_numbers\u001b[0m \u001b[0;34m=\u001b[0m \u001b[0mfilter\u001b[0m\u001b[0;34m(\u001b[0m\u001b[0msympy\u001b[0m\u001b[0;34m.\u001b[0m\u001b[0misprime\u001b[0m\u001b[0;34m,\u001b[0m \u001b[0mnumbers\u001b[0m\u001b[0;34m)\u001b[0m\u001b[0;34m\u001b[0m\u001b[0;34m\u001b[0m\u001b[0m\n\u001b[1;32m      5\u001b[0m \u001b[0mprint\u001b[0m\u001b[0;34m(\u001b[0m\u001b[0;34m\"Prime numbers({}-{}):\"\u001b[0m\u001b[0;34m.\u001b[0m\u001b[0mformat\u001b[0m\u001b[0;34m(\u001b[0m\u001b[0ma\u001b[0m\u001b[0;34m,\u001b[0m\u001b[0mb\u001b[0m\u001b[0;34m)\u001b[0m\u001b[0;34m)\u001b[0m\u001b[0;34m\u001b[0m\u001b[0;34m\u001b[0m\u001b[0m\n",
      "\u001b[0;31mModuleNotFoundError\u001b[0m: No module named 'sympy'"
     ]
    }
   ],
   "source": [
    "import sympy\n",
    "a, b = 500,600\n",
    "numbers = range(a,b)\n",
    "prime_numbers = filter(sympy.isprime, numbers)\n",
    "print(\"Prime numbers({}-{}):\".format(a,b))\n",
    "print(\",\".join(map(str,prime_numbers)))"
   ]
  },
  {
   "cell_type": "code",
   "execution_count": null,
   "metadata": {},
   "outputs": [],
   "source": []
  }
 ],
 "metadata": {
  "kernelspec": {
   "display_name": "Python 3",
   "language": "python",
   "name": "python3"
  },
  "language_info": {
   "codemirror_mode": {
    "name": "ipython",
    "version": 3
   },
   "file_extension": ".py",
   "mimetype": "text/x-python",
   "name": "python",
   "nbconvert_exporter": "python",
   "pygments_lexer": "ipython3",
   "version": "3.7.3"
  }
 },
 "nbformat": 4,
 "nbformat_minor": 2
}
