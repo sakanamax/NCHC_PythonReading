{
 "cells": [
  {
   "cell_type": "markdown",
   "metadata": {},
   "source": [
    "### range 語法\n",
    "\n",
    "```\n",
    "range (start, stop[, step])\n",
    "```"
   ]
  },
  {
   "cell_type": "code",
   "execution_count": 17,
   "metadata": {},
   "outputs": [
    {
     "name": "stdout",
     "output_type": "stream",
     "text": [
      "0\n",
      "1\n",
      "2\n",
      "3\n",
      "4\n",
      "5\n",
      "6\n"
     ]
    }
   ],
   "source": [
    "for i in range(7):\n",
    "    print(i)"
   ]
  },
  {
   "cell_type": "code",
   "execution_count": 15,
   "metadata": {},
   "outputs": [
    {
     "name": "stdout",
     "output_type": "stream",
     "text": [
      "2\n",
      "3\n"
     ]
    }
   ],
   "source": [
    "for i in range(2,4):\n",
    "    print(i)"
   ]
  },
  {
   "cell_type": "code",
   "execution_count": 16,
   "metadata": {},
   "outputs": [
    {
     "name": "stdout",
     "output_type": "stream",
     "text": [
      "2\n",
      "6\n"
     ]
    }
   ],
   "source": [
    "for i in range(2,7,4):\n",
    "    print(i)"
   ]
  },
  {
   "cell_type": "markdown",
   "metadata": {},
   "source": [
    "# 7-5.py (Python 3 version) 九九乘法表"
   ]
  },
  {
   "cell_type": "code",
   "execution_count": 13,
   "metadata": {},
   "outputs": [
    {
     "name": "stdout",
     "output_type": "stream",
     "text": [
      "2x1= 2    3x1= 3    4x1= 4    5x1= 5    \n",
      "2x2= 4    3x2= 6    4x2= 8    5x2=10    \n",
      "2x3= 6    3x3= 9    4x3=12    5x3=15    \n",
      "2x4= 8    3x4=12    4x4=16    5x4=20    \n",
      "2x5=10    3x5=15    4x5=20    5x5=25    \n",
      "2x6=12    3x6=18    4x6=24    5x6=30    \n",
      "2x7=14    3x7=21    4x7=28    5x7=35    \n",
      "2x8=16    3x8=24    4x8=32    5x8=40    \n",
      "2x9=18    3x9=27    4x9=36    5x9=45    \n",
      "\n",
      "6x1= 6    7x1= 7    8x1= 8    9x1= 9    \n",
      "6x2=12    7x2=14    8x2=16    9x2=18    \n",
      "6x3=18    7x3=21    8x3=24    9x3=27    \n",
      "6x4=24    7x4=28    8x4=32    9x4=36    \n",
      "6x5=30    7x5=35    8x5=40    9x5=45    \n",
      "6x6=36    7x6=42    8x6=48    9x6=54    \n",
      "6x7=42    7x7=49    8x7=56    9x7=63    \n",
      "6x8=48    7x8=56    8x8=64    9x8=72    \n",
      "6x9=54    7x9=63    8x9=72    9x9=81    \n",
      "\n"
     ]
    }
   ],
   "source": [
    "for i in range(2,7,4):\n",
    "    for j in range(1,10):\n",
    "        print(\"{}x{}={:>2}    \".format(i, j, i*j), end=\"\")\n",
    "        print(\"{}x{}={:>2}    \".format(i+1, j, (i+1)*j), end=\"\")\n",
    "        print(\"{}x{}={:>2}    \".format(i+2, j, (i+2)*j), end=\"\")\n",
    "        print(\"{}x{}={:>2}    \".format(i+3, j, (i+3)*j))\n",
    "    print()"
   ]
  },
  {
   "cell_type": "markdown",
   "metadata": {},
   "source": [
    "# 7-6.py (Python 3 version) 九九乘法表"
   ]
  },
  {
   "cell_type": "code",
   "execution_count": 2,
   "metadata": {},
   "outputs": [
    {
     "name": "stdout",
     "output_type": "stream",
     "text": [
      "2x1= 2    3x1= 3    4x1= 4    5x1= 5    \n",
      "2x2= 4    3x2= 6    4x2= 8    5x2=10    \n",
      "2x3= 6    3x3= 9    4x3=12    5x3=15    \n",
      "2x4= 8    3x4=12    4x4=16    5x4=20    \n",
      "2x5=10    3x5=15    4x5=20    5x5=25    \n",
      "2x6=12    3x6=18    4x6=24    5x6=30    \n",
      "2x7=14    3x7=21    4x7=28    5x7=35    \n",
      "2x8=16    3x8=24    4x8=32    5x8=40    \n",
      "2x9=18    3x9=27    4x9=36    5x9=45    \n",
      "\n",
      "6x1= 6    7x1= 7    8x1= 8    9x1= 9    \n",
      "6x2=12    7x2=14    8x2=16    9x2=18    \n",
      "6x3=18    7x3=21    8x3=24    9x3=27    \n",
      "6x4=24    7x4=28    8x4=32    9x4=36    \n",
      "6x5=30    7x5=35    8x5=40    9x5=45    \n",
      "6x6=36    7x6=42    8x6=48    9x6=54    \n",
      "6x7=42    7x7=49    8x7=56    9x7=63    \n",
      "6x8=48    7x8=56    8x8=64    9x8=72    \n",
      "6x9=54    7x9=63    8x9=72    9x9=81    \n",
      "\n"
     ]
    }
   ],
   "source": [
    "for i in range(2,7,4):\n",
    "    for j in range(1,10):\n",
    "        for k in range(i,i+4):\n",
    "            print(\"{}x{}={:>2}    \".format(k, j, k*j), end=\"\")\n",
    "        print()\n",
    "    print()"
   ]
  },
  {
   "cell_type": "code",
   "execution_count": null,
   "metadata": {},
   "outputs": [],
   "source": []
  }
 ],
 "metadata": {
  "kernelspec": {
   "display_name": "Python 3",
   "language": "python",
   "name": "python3"
  },
  "language_info": {
   "codemirror_mode": {
    "name": "ipython",
    "version": 3
   },
   "file_extension": ".py",
   "mimetype": "text/x-python",
   "name": "python",
   "nbconvert_exporter": "python",
   "pygments_lexer": "ipython3",
   "version": "3.7.3"
  }
 },
 "nbformat": 4,
 "nbformat_minor": 2
}
